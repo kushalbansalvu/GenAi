{
 "cells": [
  {
   "cell_type": "code",
   "execution_count": 2,
   "metadata": {},
   "outputs": [],
   "source": [
    "import tensorflow as tf\n",
    "from tensorflow.keras.models import load_model\n",
    "from tensorflow.keras.preprocessing import sequence\n",
    "from tensorflow.keras.datasets import imdb\n",
    "import numpy as np"
   ]
  },
  {
   "cell_type": "code",
   "execution_count": 3,
   "metadata": {},
   "outputs": [],
   "source": [
    "word_index=imdb.get_word_index()\n",
    "reverse_word_index= {value: key for key, value in word_index.items()}"
   ]
  },
  {
   "cell_type": "code",
   "execution_count": 4,
   "metadata": {},
   "outputs": [
    {
     "name": "stderr",
     "output_type": "stream",
     "text": [
      "2025-03-01 22:01:49.517904: E external/local_xla/xla/stream_executor/cuda/cuda_driver.cc:152] failed call to cuInit: INTERNAL: CUDA error: Failed call to cuInit: UNKNOWN ERROR (303)\n",
      "WARNING:absl:Compiled the loaded model, but the compiled metrics have yet to be built. `model.compile_metrics` will be empty until you train or evaluate the model.\n"
     ]
    },
    {
     "data": {
      "text/html": [
       "<pre style=\"white-space:pre;overflow-x:auto;line-height:normal;font-family:Menlo,'DejaVu Sans Mono',consolas,'Courier New',monospace\"><span style=\"font-weight: bold\">Model: \"sequential_3\"</span>\n",
       "</pre>\n"
      ],
      "text/plain": [
       "\u001b[1mModel: \"sequential_3\"\u001b[0m\n"
      ]
     },
     "metadata": {},
     "output_type": "display_data"
    },
    {
     "data": {
      "text/html": [
       "<pre style=\"white-space:pre;overflow-x:auto;line-height:normal;font-family:Menlo,'DejaVu Sans Mono',consolas,'Courier New',monospace\">┏━━━━━━━━━━━━━━━━━━━━━━━━━━━━━━━━━┳━━━━━━━━━━━━━━━━━━━━━━━━┳━━━━━━━━━━━━━━━┓\n",
       "┃<span style=\"font-weight: bold\"> Layer (type)                    </span>┃<span style=\"font-weight: bold\"> Output Shape           </span>┃<span style=\"font-weight: bold\">       Param # </span>┃\n",
       "┡━━━━━━━━━━━━━━━━━━━━━━━━━━━━━━━━━╇━━━━━━━━━━━━━━━━━━━━━━━━╇━━━━━━━━━━━━━━━┩\n",
       "│ embedding_2 (<span style=\"color: #0087ff; text-decoration-color: #0087ff\">Embedding</span>)         │ (<span style=\"color: #00af00; text-decoration-color: #00af00\">32</span>, <span style=\"color: #00af00; text-decoration-color: #00af00\">500</span>, <span style=\"color: #00af00; text-decoration-color: #00af00\">128</span>)         │     <span style=\"color: #00af00; text-decoration-color: #00af00\">1,280,000</span> │\n",
       "├─────────────────────────────────┼────────────────────────┼───────────────┤\n",
       "│ simple_rnn_2 (<span style=\"color: #0087ff; text-decoration-color: #0087ff\">SimpleRNN</span>)        │ (<span style=\"color: #00af00; text-decoration-color: #00af00\">32</span>, <span style=\"color: #00af00; text-decoration-color: #00af00\">128</span>)              │        <span style=\"color: #00af00; text-decoration-color: #00af00\">32,896</span> │\n",
       "├─────────────────────────────────┼────────────────────────┼───────────────┤\n",
       "│ dense_2 (<span style=\"color: #0087ff; text-decoration-color: #0087ff\">Dense</span>)                 │ (<span style=\"color: #00af00; text-decoration-color: #00af00\">32</span>, <span style=\"color: #00af00; text-decoration-color: #00af00\">1</span>)                │           <span style=\"color: #00af00; text-decoration-color: #00af00\">129</span> │\n",
       "└─────────────────────────────────┴────────────────────────┴───────────────┘\n",
       "</pre>\n"
      ],
      "text/plain": [
       "┏━━━━━━━━━━━━━━━━━━━━━━━━━━━━━━━━━┳━━━━━━━━━━━━━━━━━━━━━━━━┳━━━━━━━━━━━━━━━┓\n",
       "┃\u001b[1m \u001b[0m\u001b[1mLayer (type)                   \u001b[0m\u001b[1m \u001b[0m┃\u001b[1m \u001b[0m\u001b[1mOutput Shape          \u001b[0m\u001b[1m \u001b[0m┃\u001b[1m \u001b[0m\u001b[1m      Param #\u001b[0m\u001b[1m \u001b[0m┃\n",
       "┡━━━━━━━━━━━━━━━━━━━━━━━━━━━━━━━━━╇━━━━━━━━━━━━━━━━━━━━━━━━╇━━━━━━━━━━━━━━━┩\n",
       "│ embedding_2 (\u001b[38;5;33mEmbedding\u001b[0m)         │ (\u001b[38;5;34m32\u001b[0m, \u001b[38;5;34m500\u001b[0m, \u001b[38;5;34m128\u001b[0m)         │     \u001b[38;5;34m1,280,000\u001b[0m │\n",
       "├─────────────────────────────────┼────────────────────────┼───────────────┤\n",
       "│ simple_rnn_2 (\u001b[38;5;33mSimpleRNN\u001b[0m)        │ (\u001b[38;5;34m32\u001b[0m, \u001b[38;5;34m128\u001b[0m)              │        \u001b[38;5;34m32,896\u001b[0m │\n",
       "├─────────────────────────────────┼────────────────────────┼───────────────┤\n",
       "│ dense_2 (\u001b[38;5;33mDense\u001b[0m)                 │ (\u001b[38;5;34m32\u001b[0m, \u001b[38;5;34m1\u001b[0m)                │           \u001b[38;5;34m129\u001b[0m │\n",
       "└─────────────────────────────────┴────────────────────────┴───────────────┘\n"
      ]
     },
     "metadata": {},
     "output_type": "display_data"
    },
    {
     "data": {
      "text/html": [
       "<pre style=\"white-space:pre;overflow-x:auto;line-height:normal;font-family:Menlo,'DejaVu Sans Mono',consolas,'Courier New',monospace\"><span style=\"font-weight: bold\"> Total params: </span><span style=\"color: #00af00; text-decoration-color: #00af00\">1,313,027</span> (5.01 MB)\n",
       "</pre>\n"
      ],
      "text/plain": [
       "\u001b[1m Total params: \u001b[0m\u001b[38;5;34m1,313,027\u001b[0m (5.01 MB)\n"
      ]
     },
     "metadata": {},
     "output_type": "display_data"
    },
    {
     "data": {
      "text/html": [
       "<pre style=\"white-space:pre;overflow-x:auto;line-height:normal;font-family:Menlo,'DejaVu Sans Mono',consolas,'Courier New',monospace\"><span style=\"font-weight: bold\"> Trainable params: </span><span style=\"color: #00af00; text-decoration-color: #00af00\">1,313,025</span> (5.01 MB)\n",
       "</pre>\n"
      ],
      "text/plain": [
       "\u001b[1m Trainable params: \u001b[0m\u001b[38;5;34m1,313,025\u001b[0m (5.01 MB)\n"
      ]
     },
     "metadata": {},
     "output_type": "display_data"
    },
    {
     "data": {
      "text/html": [
       "<pre style=\"white-space:pre;overflow-x:auto;line-height:normal;font-family:Menlo,'DejaVu Sans Mono',consolas,'Courier New',monospace\"><span style=\"font-weight: bold\"> Non-trainable params: </span><span style=\"color: #00af00; text-decoration-color: #00af00\">0</span> (0.00 B)\n",
       "</pre>\n"
      ],
      "text/plain": [
       "\u001b[1m Non-trainable params: \u001b[0m\u001b[38;5;34m0\u001b[0m (0.00 B)\n"
      ]
     },
     "metadata": {},
     "output_type": "display_data"
    },
    {
     "data": {
      "text/html": [
       "<pre style=\"white-space:pre;overflow-x:auto;line-height:normal;font-family:Menlo,'DejaVu Sans Mono',consolas,'Courier New',monospace\"><span style=\"font-weight: bold\"> Optimizer params: </span><span style=\"color: #00af00; text-decoration-color: #00af00\">2</span> (12.00 B)\n",
       "</pre>\n"
      ],
      "text/plain": [
       "\u001b[1m Optimizer params: \u001b[0m\u001b[38;5;34m2\u001b[0m (12.00 B)\n"
      ]
     },
     "metadata": {},
     "output_type": "display_data"
    }
   ],
   "source": [
    "#Load the pretrained model with ReLu activation\n",
    "model = load_model('simple_rnn_imdb.h5')\n",
    "model.summary()"
   ]
  },
  {
   "cell_type": "code",
   "execution_count": 5,
   "metadata": {},
   "outputs": [
    {
     "data": {
      "text/plain": [
       "[array([[-0.06853367,  0.0756524 , -0.06102882, ..., -0.09123584,\n",
       "          0.06000973, -0.02297437],\n",
       "        [-0.05325683,  0.04219124, -0.0224916 , ..., -0.02000139,\n",
       "         -0.02848128, -0.00326845],\n",
       "        [ 0.03684596, -0.02340228,  0.0095337 , ...,  0.0104591 ,\n",
       "          0.03085855,  0.07208104],\n",
       "        ...,\n",
       "        [ 0.07606912, -0.05608382,  0.0006157 , ..., -0.0174745 ,\n",
       "          0.0089948 ,  0.04350147],\n",
       "        [-0.05863044,  0.05355198,  0.1136223 , ...,  0.0758047 ,\n",
       "         -0.03100257,  0.09401748],\n",
       "        [-0.0019004 , -0.05154009, -0.09669296, ..., -0.03336636,\n",
       "         -0.10043423, -0.05719545]], dtype=float32),\n",
       " array([[-0.01890874, -0.14285119,  0.09525497, ..., -0.00701263,\n",
       "          0.14396928,  0.09830882],\n",
       "        [-0.0431644 , -0.07098746, -0.04201767, ..., -0.09211256,\n",
       "         -0.08343554,  0.15668043],\n",
       "        [-0.02728126,  0.1453685 ,  0.12596439, ...,  0.03614027,\n",
       "         -0.094497  , -0.13736138],\n",
       "        ...,\n",
       "        [ 0.00917173, -0.03994906, -0.00487653, ..., -0.13255961,\n",
       "          0.16372795, -0.08902809],\n",
       "        [ 0.10743946, -0.1110343 , -0.09821995, ..., -0.10038478,\n",
       "          0.05585879,  0.08544638],\n",
       "        [ 0.07289069,  0.02455192,  0.10755914, ..., -0.08538217,\n",
       "         -0.06613732, -0.14513762]], dtype=float32),\n",
       " array([[-0.05102564, -0.11556152,  0.04246802, ...,  0.01291922,\n",
       "         -0.05279627,  0.1022319 ],\n",
       "        [-0.05184777, -0.04223259, -0.01126759, ...,  0.10929046,\n",
       "         -0.08339894, -0.07445338],\n",
       "        [ 0.01983184, -0.05091411, -0.02979154, ...,  0.12787011,\n",
       "         -0.08724172,  0.07883543],\n",
       "        ...,\n",
       "        [-0.12231237,  0.07202054, -0.1298222 , ...,  0.05737338,\n",
       "          0.00014726, -0.03751251],\n",
       "        [-0.08861231,  0.03634719, -0.03746206, ..., -0.09586212,\n",
       "         -0.02584849,  0.00681209],\n",
       "        [ 0.0121882 , -0.0319906 , -0.03538243, ..., -0.01694915,\n",
       "         -0.03037867,  0.02084679]], dtype=float32),\n",
       " array([-4.90949750e-02,  7.44775124e-03, -2.15557832e-02, -1.85695663e-03,\n",
       "         7.27924425e-03, -2.49936692e-02, -3.77137884e-02,  1.54192396e-03,\n",
       "         4.14174574e-04, -1.72352996e-02,  1.02014299e-02,  1.65476855e-02,\n",
       "        -1.24754282e-02, -2.51293443e-02, -9.38579347e-03, -1.09491525e-02,\n",
       "        -2.58069206e-02, -2.23993100e-02, -3.18378247e-02, -3.31921689e-02,\n",
       "         1.23958557e-03,  6.20062388e-02, -5.14818166e-05, -1.06277631e-03,\n",
       "         1.13501400e-02,  1.22891879e-02, -3.46718840e-02, -1.98498857e-03,\n",
       "         1.29416678e-03, -3.00175650e-03,  1.91465542e-02, -1.44314598e-02,\n",
       "         2.32995418e-03, -3.11419740e-02, -2.01195269e-03, -1.79096987e-03,\n",
       "        -1.47797186e-02,  1.02886185e-02, -2.03879438e-02, -1.15597220e-02,\n",
       "        -1.65966675e-02, -3.50525863e-02, -5.55019034e-03, -2.31631901e-02,\n",
       "        -1.65168140e-02, -3.43110226e-02,  2.24405862e-02, -1.95284002e-02,\n",
       "         8.09672195e-03, -3.01022921e-02, -3.89942229e-02, -3.63995321e-02,\n",
       "         5.53852832e-03, -1.69528052e-02,  1.05972718e-02, -3.43136899e-02,\n",
       "         2.80231144e-02, -1.34193096e-02, -2.39231717e-03, -1.28907077e-02,\n",
       "         2.23839190e-02, -3.35639082e-02, -4.36716303e-02, -1.93136986e-02,\n",
       "        -3.66708711e-02, -2.06566658e-02, -6.43258914e-04,  1.38077820e-02,\n",
       "        -2.82766111e-02,  2.49508489e-02, -3.94514464e-02, -2.23061293e-02,\n",
       "        -8.24081711e-03, -4.42283005e-02, -2.26903576e-02, -2.72700693e-02,\n",
       "        -3.39403823e-02, -3.10703684e-02,  2.23056823e-02,  3.90648749e-03,\n",
       "        -6.40908431e-04, -2.56404337e-02, -2.59076543e-02, -1.02541400e-02,\n",
       "        -1.48419421e-02, -2.39254744e-03, -8.75460450e-03, -2.22838465e-02,\n",
       "        -3.22154397e-03, -3.34154665e-02,  1.46410493e-02, -4.89868522e-02,\n",
       "         5.01209684e-03, -3.86319868e-02, -3.17179710e-02, -2.03543380e-02,\n",
       "        -1.82722080e-02, -2.99175270e-03,  5.29295416e-04, -1.10777011e-02,\n",
       "         3.80831026e-02, -2.85427701e-02, -2.55903210e-02,  1.34551600e-02,\n",
       "        -1.85172893e-02,  6.80122757e-03,  9.75907780e-03, -2.08117198e-02,\n",
       "        -2.25310586e-03,  3.99868377e-02, -1.49922706e-02,  3.76271643e-02,\n",
       "         8.58453102e-03,  3.06901298e-02,  1.17566288e-02, -4.31443639e-02,\n",
       "        -2.47859824e-02,  8.65575299e-03, -4.49780375e-02, -3.66606414e-02,\n",
       "        -3.38267311e-02, -2.90229414e-02, -1.22438595e-02,  4.77526560e-02,\n",
       "        -1.31405564e-02, -4.22408469e-02, -3.35655771e-02, -9.63216065e-04],\n",
       "       dtype=float32),\n",
       " array([[ 1.27150789e-01],\n",
       "        [-2.68472694e-02],\n",
       "        [ 1.82097815e-02],\n",
       "        [ 1.35312125e-01],\n",
       "        [ 1.43692762e-01],\n",
       "        [ 5.75163841e-01],\n",
       "        [ 2.51283616e-01],\n",
       "        [ 1.64189741e-01],\n",
       "        [-1.10901646e-01],\n",
       "        [-8.06532335e-03],\n",
       "        [-3.41526657e-01],\n",
       "        [-1.59371272e-01],\n",
       "        [ 1.71215683e-01],\n",
       "        [-1.57284588e-01],\n",
       "        [-6.45462349e-02],\n",
       "        [-1.03298873e-01],\n",
       "        [ 2.15006977e-01],\n",
       "        [ 2.54049916e-02],\n",
       "        [-1.84237182e-01],\n",
       "        [ 6.90669939e-02],\n",
       "        [-1.01954259e-01],\n",
       "        [-3.21456760e-01],\n",
       "        [-1.79978684e-01],\n",
       "        [-8.68597329e-02],\n",
       "        [-8.31448808e-02],\n",
       "        [ 2.47951001e-01],\n",
       "        [-9.77939144e-02],\n",
       "        [ 1.71259299e-01],\n",
       "        [ 5.34362942e-02],\n",
       "        [-9.00764838e-02],\n",
       "        [ 1.50388211e-01],\n",
       "        [ 1.36853417e-03],\n",
       "        [ 2.01162472e-01],\n",
       "        [ 8.36266652e-02],\n",
       "        [ 1.13766439e-01],\n",
       "        [-2.42306758e-02],\n",
       "        [ 1.10014908e-01],\n",
       "        [-3.89052480e-02],\n",
       "        [-1.62244827e-01],\n",
       "        [ 1.11762121e-01],\n",
       "        [-1.67359486e-01],\n",
       "        [-1.19154096e-01],\n",
       "        [-2.57561684e-01],\n",
       "        [ 8.68525915e-03],\n",
       "        [-3.62379365e-02],\n",
       "        [ 3.54694694e-01],\n",
       "        [-7.83835888e-01],\n",
       "        [-9.19097587e-02],\n",
       "        [-1.35529920e-01],\n",
       "        [ 1.25205010e-01],\n",
       "        [-9.21248198e-02],\n",
       "        [ 8.67416337e-02],\n",
       "        [ 1.50674716e-01],\n",
       "        [-8.56165886e-02],\n",
       "        [ 8.52102637e-02],\n",
       "        [ 4.83921319e-01],\n",
       "        [ 1.09358147e-01],\n",
       "        [ 1.16910338e-01],\n",
       "        [-1.97752491e-01],\n",
       "        [ 7.37945200e-04],\n",
       "        [ 1.73149660e-01],\n",
       "        [-2.18702331e-01],\n",
       "        [-1.17565826e-01],\n",
       "        [ 2.02041175e-02],\n",
       "        [-2.51436653e-03],\n",
       "        [ 9.99301970e-02],\n",
       "        [-8.66923928e-02],\n",
       "        [ 1.26463279e-01],\n",
       "        [-3.63853514e-01],\n",
       "        [ 2.17489675e-01],\n",
       "        [-6.11505024e-02],\n",
       "        [ 2.92133152e-01],\n",
       "        [-3.36205363e-02],\n",
       "        [ 1.52075842e-01],\n",
       "        [ 1.03476748e-01],\n",
       "        [-2.02673465e-01],\n",
       "        [-5.12140132e-02],\n",
       "        [ 1.91058204e-01],\n",
       "        [-1.11327493e+00],\n",
       "        [ 2.05980077e-01],\n",
       "        [ 1.36057362e-02],\n",
       "        [ 4.29218747e-02],\n",
       "        [ 1.08053811e-01],\n",
       "        [-1.05682828e-01],\n",
       "        [-2.96433955e-01],\n",
       "        [ 1.42144889e-01],\n",
       "        [-6.87755868e-02],\n",
       "        [-1.44352257e-01],\n",
       "        [-1.56537160e-01],\n",
       "        [-2.16943040e-01],\n",
       "        [ 1.31105512e-01],\n",
       "        [-1.84335321e-01],\n",
       "        [ 3.60324718e-02],\n",
       "        [-1.89715959e-02],\n",
       "        [ 1.70322001e-01],\n",
       "        [-4.07958329e-02],\n",
       "        [-5.04078418e-02],\n",
       "        [-2.18355238e-01],\n",
       "        [ 2.08554506e-01],\n",
       "        [ 1.96520641e-01],\n",
       "        [ 1.65529370e-01],\n",
       "        [-2.07597330e-01],\n",
       "        [-3.27604674e-02],\n",
       "        [ 1.05294585e-01],\n",
       "        [-1.86477482e-01],\n",
       "        [-1.06271626e-02],\n",
       "        [ 2.09151790e-01],\n",
       "        [ 1.57671541e-01],\n",
       "        [-9.76264570e-03],\n",
       "        [ 4.63105924e-02],\n",
       "        [ 1.66275576e-02],\n",
       "        [ 1.82953924e-01],\n",
       "        [-1.59466684e-01],\n",
       "        [ 1.82238609e-01],\n",
       "        [ 2.28749186e-01],\n",
       "        [ 6.71763271e-02],\n",
       "        [ 6.97959065e-02],\n",
       "        [-1.08982436e-01],\n",
       "        [ 1.24141397e-02],\n",
       "        [-1.47388149e-02],\n",
       "        [-1.20685264e-01],\n",
       "        [-2.32456908e-01],\n",
       "        [-1.40855774e-01],\n",
       "        [-6.02505542e-02],\n",
       "        [ 5.16398102e-02],\n",
       "        [ 1.99219286e-01],\n",
       "        [-2.10865453e-01],\n",
       "        [-2.54614621e-01]], dtype=float32),\n",
       " array([-0.74844027], dtype=float32)]"
      ]
     },
     "execution_count": 5,
     "metadata": {},
     "output_type": "execute_result"
    }
   ],
   "source": [
    "model.get_weights()"
   ]
  },
  {
   "cell_type": "code",
   "execution_count": 6,
   "metadata": {},
   "outputs": [],
   "source": [
    "#Function to decode reviews\n",
    "def decode_review(encode_review):\n",
    "    return ''.join([reverse_word_index.get(i-3, '?') for i in encode_review])\n",
    "\n",
    "#Function to preprocess user input\n",
    "def preprocess_text(text):\n",
    "    words = text.lower().split()\n",
    "    encoded_review = [word_index.get(word, 2) + 3 for word in words]\n",
    "    padded_review = sequence.pad_sequences([encoded_review], maxlen=500)\n",
    "    return padded_review"
   ]
  },
  {
   "cell_type": "code",
   "execution_count": null,
   "metadata": {},
   "outputs": [],
   "source": [
    "###Prediction function\n",
    "\n",
    "def predict_sentiment(review):\n",
    "    preprocessed_input = preprocess_text(review)\n",
    "    prediction = model.predict(preprocessed_input)\n",
    "    sentiment = 'Positive' if prediction[0][0] > 0.5 else 'negative'\n",
    "    return sentiment, prediction[0][0]"
   ]
  }
 ],
 "metadata": {
  "kernelspec": {
   "display_name": "venv",
   "language": "python",
   "name": "python3"
  },
  "language_info": {
   "codemirror_mode": {
    "name": "ipython",
    "version": 3
   },
   "file_extension": ".py",
   "mimetype": "text/x-python",
   "name": "python",
   "nbconvert_exporter": "python",
   "pygments_lexer": "ipython3",
   "version": "3.12.9"
  }
 },
 "nbformat": 4,
 "nbformat_minor": 2
}
