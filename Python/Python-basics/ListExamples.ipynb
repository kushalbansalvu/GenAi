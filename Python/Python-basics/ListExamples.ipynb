{
 "cells": [
  {
   "cell_type": "code",
   "execution_count": 1,
   "metadata": {},
   "outputs": [
    {
     "name": "stdout",
     "output_type": "stream",
     "text": [
      "Do not forget to pay bill\n"
     ]
    }
   ],
   "source": [
    "to_do_list=[\"Buy Groceries\", \"Car service\", \"Make food\", \"Clean Home\", \"Pay Bills\"]\n",
    "to_do_list.append(\"Mobile recharge\")\n",
    "to_do_list.remove(\"Make food\")\n",
    "print(to_do_list)\n",
    "if \"Pay Bills\" in to_do_list:\n",
    "    print(\"Do not forget to pay bill\")"
   ]
  },
  {
   "cell_type": "code",
   "execution_count": null,
   "metadata": {},
   "outputs": [],
   "source": []
  }
 ],
 "metadata": {
  "kernelspec": {
   "display_name": "venv",
   "language": "python",
   "name": "python3"
  },
  "language_info": {
   "codemirror_mode": {
    "name": "ipython",
    "version": 3
   },
   "file_extension": ".py",
   "mimetype": "text/x-python",
   "name": "python",
   "nbconvert_exporter": "python",
   "pygments_lexer": "ipython3",
   "version": "3.12.0"
  }
 },
 "nbformat": 4,
 "nbformat_minor": 2
}
