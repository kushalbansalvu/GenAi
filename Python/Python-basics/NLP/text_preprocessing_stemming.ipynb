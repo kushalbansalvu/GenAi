{
 "cells": [
  {
   "cell_type": "code",
   "execution_count": null,
   "metadata": {},
   "outputs": [],
   "source": [
    "Stemming is a text normalization technique in natural language processing (NLP) where words are reduced to their root or base form by removing suffixes. Unlike lemmatization, stemming does not always produce a valid word; it simply chops off endings based on heuristic rules.\n",
    "\n",
    "Example:\n",
    "\"running\" → \"run\"\n",
    "\"flies\" → \"fli\" (incorrect but still useful in some cases)\n",
    "\"happiness\" → \"happi\""
   ]
  },
  {
   "cell_type": "code",
   "execution_count": 2,
   "metadata": {},
   "outputs": [],
   "source": [
    "words = ['eat','eaten', 'eating','writes','eates','written','write','wrote']"
   ]
  },
  {
   "cell_type": "code",
   "execution_count": 3,
   "metadata": {},
   "outputs": [],
   "source": [
    "#porterstemmer\n",
    "from nltk.stem import PorterStemmer"
   ]
  },
  {
   "cell_type": "code",
   "execution_count": 9,
   "metadata": {},
   "outputs": [],
   "source": [
    "stemming = PorterStemmer()"
   ]
  },
  {
   "cell_type": "code",
   "execution_count": 11,
   "metadata": {},
   "outputs": [
    {
     "name": "stdout",
     "output_type": "stream",
     "text": [
      "eat------>eat\n",
      "eaten------>eaten\n",
      "eating------>eat\n",
      "writes------>write\n",
      "eates------>eat\n",
      "written------>written\n",
      "write------>write\n",
      "wrote------>wrote\n"
     ]
    }
   ],
   "source": [
    "for word in words:\n",
    "    print(word+\"------>\"+stemming.stem(word))"
   ]
  },
  {
   "cell_type": "markdown",
   "metadata": {},
   "source": []
  },
  {
   "cell_type": "markdown",
   "metadata": {},
   "source": [
    "RegexpStemmer is a rule-based stemming algorithm available in NLTK (Natural Language Toolkit) that allows you to define custom stemming rules using regular expressions. This is useful when you want more control over how words are stemmed compared to algorithms like PorterStemmer or SnowballStemmer."
   ]
  },
  {
   "cell_type": "code",
   "execution_count": 14,
   "metadata": {},
   "outputs": [],
   "source": [
    "from nltk.stem import RegexpStemmer\n",
    "# Define a regex pattern to remove common suffixes (e.g., 'ing', 'ed', 'ly', 'es')\n",
    "regexstemmer = RegexpStemmer(r'ing$|ed$|ly$|es$', min=4)\n",
    "#List of words to stem\n",
    "words_new = [\"running\", \"played\", \"happily\", \"flies\", \"stopped\"]"
   ]
  },
  {
   "cell_type": "code",
   "execution_count": 15,
   "metadata": {},
   "outputs": [
    {
     "name": "stdout",
     "output_type": "stream",
     "text": [
      "running -> runn\n",
      "played -> play\n",
      "happily -> happi\n",
      "flies -> fli\n",
      "stopped -> stopp\n"
     ]
    }
   ],
   "source": [
    "for word in words_new:\n",
    "    print(word, \"->\",regexstemmer.stem(word))"
   ]
  },
  {
   "cell_type": "code",
   "execution_count": 19,
   "metadata": {},
   "outputs": [
    {
     "name": "stdout",
     "output_type": "stream",
     "text": [
      "running -> run\n",
      "played -> play\n",
      "happily -> happili\n",
      "flies -> fli\n",
      "stopped -> stop\n"
     ]
    }
   ],
   "source": [
    "#SnowBallStemmer\n",
    "#SnowballStemmer (NLTK)\n",
    "#The SnowballStemmer (also called Porter2 Stemmer) is an improved version of the Porter Stemmer, providing better accuracy and supporting multiple languages. It is widely used for text processing, search engines, and NLP tasks.\n",
    "from nltk.stem import SnowballStemmer\n",
    "snowballStemmer = SnowballStemmer(\"english\")\n",
    "words_three = [\"running\",\"files\",\"happiness\",\"easily\",\"singing\",\"better\"]\n",
    "for word in words_three:\n",
    "    print(word, \"->\", snowballStemmer.stem(word))\n"
   ]
  },
  {
   "cell_type": "code",
   "execution_count": null,
   "metadata": {},
   "outputs": [],
   "source": []
  }
 ],
 "metadata": {
  "kernelspec": {
   "display_name": "venv",
   "language": "python",
   "name": "python3"
  },
  "language_info": {
   "codemirror_mode": {
    "name": "ipython",
    "version": 3
   },
   "file_extension": ".py",
   "mimetype": "text/x-python",
   "name": "python",
   "nbconvert_exporter": "python",
   "pygments_lexer": "ipython3",
   "version": "3.12.0"
  }
 },
 "nbformat": 4,
 "nbformat_minor": 2
}
