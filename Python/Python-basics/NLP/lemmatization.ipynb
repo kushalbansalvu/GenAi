{
 "cells": [
  {
   "cell_type": "markdown",
   "metadata": {},
   "source": [
    "Lemmatization (Better than Stemming)\n",
    "Lemmatization is a more accurate alternative to stemming because it reduces words to their root (lemma) based on meaning rather than just chopping off suffixes. It uses a dictionary lookup to return valid words."
   ]
  },
  {
   "cell_type": "code",
   "execution_count": 16,
   "metadata": {},
   "outputs": [
    {
     "name": "stderr",
     "output_type": "stream",
     "text": [
      "[nltk_data] Downloading package averaged_perceptron_tagger to\n",
      "[nltk_data]     /home/kushal/nltk_data...\n",
      "[nltk_data]   Package averaged_perceptron_tagger is already up-to-\n",
      "[nltk_data]       date!\n",
      "[nltk_data] Downloading package wordnet to /home/kushal/nltk_data...\n"
     ]
    }
   ],
   "source": [
    "from nltk.stem import WordNetLemmatizer\n",
    "from nltk.corpus import wordnet\n",
    "import nltk\n",
    "nltk.download(\"averaged_perceptron_tagger\")  # Download POS tagger\n",
    "nltk.download(\"wordnet\")  # Download WordNet dataset\n",
    "\n",
    "wordnetlemmatizer = WordNetLemmatizer()\n",
    "words = [\"running\", \"flies\", \"better\", \"happier\", \"singing\", \"ate\"]\n",
    "\n",
    "#Without a POS tag, it treats all words as nouns, which is incorrect.\n"
   ]
  },
  {
   "cell_type": "markdown",
   "metadata": {},
   "source": [
    "running → running\n",
    "flies → fly  ✅ (works fine)\n",
    "better → better ❌ (should be \"good\" for adjectives)\n",
    "happier → happier ❌ (should be \"happy\")\n",
    "singing → singing ❌ (should be \"sing\")\n",
    "ate → ate ❌ (should be \"eat\")"
   ]
  },
  {
   "cell_type": "code",
   "execution_count": 18,
   "metadata": {},
   "outputs": [],
   "source": [
    "# To get accurate results, specify the correct part of speech (POS) using wordnet.VERB, wordnet.ADJ, etc.\n",
    "# Function to map NLTK POS tags to WordNet POS tags\n",
    "def get_wordnet_pos(word):\n",
    "    tag = nltk.pos_tag([word])[0][1][0].upper()  # Get first letter of POS\n",
    "    tag_dict = {\"J\": wordnet.ADJ, \"V\": wordnet.VERB, \"N\": wordnet.NOUN, \"R\": wordnet.ADV}\n",
    "    return tag_dict.get(tag, wordnet.NOUN)  # Default to NOUN"
   ]
  },
  {
   "cell_type": "code",
   "execution_count": 20,
   "metadata": {},
   "outputs": [
    {
     "name": "stdout",
     "output_type": "stream",
     "text": [
      "go\n",
      "go\n",
      "go\n",
      "go\n",
      "go\n",
      "go\n"
     ]
    }
   ],
   "source": [
    "for word in words:\n",
    "    print(wordnetlemmatizer.lemmatize(word,get_wordnet_pos(word)))  # No POS tag specified"
   ]
  },
  {
   "cell_type": "code",
   "execution_count": null,
   "metadata": {},
   "outputs": [],
   "source": []
  }
 ],
 "metadata": {
  "kernelspec": {
   "display_name": "venv",
   "language": "python",
   "name": "python3"
  },
  "language_info": {
   "codemirror_mode": {
    "name": "ipython",
    "version": 3
   },
   "file_extension": ".py",
   "mimetype": "text/x-python",
   "name": "python",
   "nbconvert_exporter": "python",
   "pygments_lexer": "ipython3",
   "version": "3.12.0"
  }
 },
 "nbformat": 4,
 "nbformat_minor": 2
}
